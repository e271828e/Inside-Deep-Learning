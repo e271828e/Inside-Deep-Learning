{
 "cells": [
  {
   "cell_type": "code",
   "execution_count": 1,
   "metadata": {},
   "outputs": [],
   "source": [
    "import numpy as np\n",
    "import torch \n",
    "assert(torch.cuda.is_available())\n",
    "gpu = torch.device(\"cuda\")"
   ]
  },
  {
   "cell_type": "code",
   "execution_count": 2,
   "metadata": {},
   "outputs": [
    {
     "name": "stdout",
     "output_type": "stream",
     "text": [
      "torch.Size([3, 2])\n"
     ]
    }
   ],
   "source": [
    "torch_scalar = torch.tensor(3.14)\n",
    "torch_vector = torch.tensor([1, 2, 3, 4])\n",
    "torch_matrix = torch.tensor([[1, 2], [3, 4], [5, 6]])\n",
    "print(torch_matrix.shape)"
   ]
  },
  {
   "cell_type": "code",
   "execution_count": 3,
   "metadata": {},
   "outputs": [
    {
     "name": "stdout",
     "output_type": "stream",
     "text": [
      "<class 'numpy.ndarray'>\n",
      "<class 'torch.Tensor'>\n"
     ]
    }
   ],
   "source": [
    "x_np = np.random.random((4,4))\n",
    "x_np = np.asarray(x_np, dtype = np.float32)\n",
    "x_pt = torch.tensor(x_np)\n",
    "print(type(x_np))\n",
    "print(type(x_pt))"
   ]
  },
  {
   "cell_type": "code",
   "execution_count": 4,
   "metadata": {},
   "outputs": [
    {
     "name": "stdout",
     "output_type": "stream",
     "text": [
      "tensor([[False,  True,  True, False],\n",
      "        [ True, False, False, False],\n",
      "        [ True,  True, False,  True],\n",
      "        [ True,  True, False, False]])\n"
     ]
    }
   ],
   "source": [
    "b_pt = (x_pt > 0.5)\n",
    "print(b_pt)"
   ]
  },
  {
   "cell_type": "code",
   "execution_count": 5,
   "metadata": {},
   "outputs": [],
   "source": [
    "import timeit\n",
    "x = torch.rand(2**12, 2**12)"
   ]
  },
  {
   "cell_type": "code",
   "execution_count": 6,
   "metadata": {},
   "outputs": [
    {
     "name": "stdout",
     "output_type": "stream",
     "text": [
      "cpu\n",
      "6.42972859996371\n"
     ]
    }
   ],
   "source": [
    "x = x.cpu()\n",
    "print(x.device)\n",
    "time_cpu = timeit.timeit(\"x@x\", globals = globals(), number = 10)\n",
    "print(time_cpu)"
   ]
  },
  {
   "cell_type": "code",
   "execution_count": 7,
   "metadata": {},
   "outputs": [
    {
     "name": "stdout",
     "output_type": "stream",
     "text": [
      "cuda:0\n",
      "0.6239892999874428\n"
     ]
    }
   ],
   "source": [
    "x = x.to(gpu)\n",
    "print(x.device)\n",
    "time_gpu = timeit.timeit(\"x@x\", globals = globals(), number = 10)\n",
    "print(time_gpu)\n",
    "\n",
    "#for some reason, the GPU benchmark is unreasonably fast on the second run. Kernel restart solves it and gives back reasonable numbers. why does this happen?\n"
   ]
  },
  {
   "cell_type": "markdown",
   "metadata": {},
   "source": [
    "Minimize $f(x) = (x-2)^2$ using PyTorch:"
   ]
  },
  {
   "cell_type": "code",
   "execution_count": 8,
   "metadata": {},
   "outputs": [
    {
     "name": "stdout",
     "output_type": "stream",
     "text": [
      "tensor([2.0000])\n"
     ]
    }
   ],
   "source": [
    "def f(x):\n",
    "    return (x-2)**2\n",
    "\n",
    "#define the independent variable as a PyTorch parameter, and ask PyTorch to track the\n",
    "#gradient of f with respect to it\n",
    "eta = 0.1\n",
    "x_param = torch.nn.Parameter(torch.tensor([0.0]), requires_grad = True)\n",
    "optimizer = torch.optim.SGD([x_param], lr = eta)\n",
    "\n",
    "for epoch in range(60):\n",
    "    optimizer.zero_grad() #reset the gradients stored in the parameters\n",
    "    loss = f(x_param) #loss is a tensor\n",
    "    loss.backward() #now x_param.grad holds the gradient of loss with respect to x_param\n",
    "    optimizer.step()\n",
    "\n",
    "print(x_param.data)"
   ]
  }
 ],
 "metadata": {
  "kernelspec": {
   "display_name": "ml",
   "language": "python",
   "name": "python3"
  },
  "language_info": {
   "codemirror_mode": {
    "name": "ipython",
    "version": 3
   },
   "file_extension": ".py",
   "mimetype": "text/x-python",
   "name": "python",
   "nbconvert_exporter": "python",
   "pygments_lexer": "ipython3",
   "version": "3.11.4"
  },
  "orig_nbformat": 4
 },
 "nbformat": 4,
 "nbformat_minor": 2
}
