{
 "cells": [
  {
   "cell_type": "code",
   "execution_count": 2,
   "metadata": {},
   "outputs": [],
   "source": [
    "import numpy as np\n",
    "import torch\n",
    "import torchvision\n",
    "import matplotlib.pyplot as plt\n",
    "\n",
    "torchvision.disable_beta_transforms_warning()\n",
    "from torch.utils.data import DataLoader, Dataset\n",
    "from torchvision.transforms.v2 import Compose, ToImageTensor, ConvertImageDtype"
   ]
  },
  {
   "cell_type": "code",
   "execution_count": 3,
   "metadata": {},
   "outputs": [],
   "source": [
    "MNIST_transform = Compose([ToImageTensor(), ConvertImageDtype(torch.float32)]) #scales between 0 and 1\n",
    "mnist_train = torchvision.datasets.MNIST(\"../../datasets\", train=True, download=True, transform=MNIST_transform)\n",
    "mnist_test = torchvision.datasets.MNIST(\"../../datasets\", train=False, download=True, transform=MNIST_transform)"
   ]
  },
  {
   "cell_type": "code",
   "execution_count": 4,
   "metadata": {},
   "outputs": [
    {
     "name": "stdout",
     "output_type": "stream",
     "text": [
      "<class 'torchvision.datapoints._image.Image'>\n",
      "torch.float32\n",
      "torch.Size([1, 28, 28])\n",
      "<class 'int'>\n"
     ]
    },
    {
     "data": {
      "text/plain": [
       "<matplotlib.image.AxesImage at 0x2423a96b690>"
      ]
     },
     "execution_count": 4,
     "metadata": {},
     "output_type": "execute_result"
    },
    {
     "data": {
      "image/png": "[encoded data removed]",
      "text/plain": [
       "<Figure size 640x480 with 1 Axes>"
      ]
     },
     "metadata": {},
     "output_type": "display_data"
    }
   ],
   "source": [
    "x_example, y_example = mnist_train[0]\n",
    "print(type(x_example))\n",
    "print(x_example.dtype)\n",
    "print(x_example.shape)\n",
    "print(type(y_example))\n",
    "\n",
    "plt.imshow(x_example[0,:], cmap='gray')\n",
    "\n",
    "x_example_green = torch.stack([x_example[0,:], x_example[0,:], x_example[0,:]])\n",
    "x_example_green[0, :] = 0 #set R channel to zero\n",
    "x_example_green[2, :] = 0 #set B channel to zero\n",
    "plt.imshow(x_example_green.permute(1,2,0)) #imshow expects the channel dimension to be the last"
   ]
  },
  {
   "cell_type": "code",
   "execution_count": 5,
   "metadata": {},
   "outputs": [],
   "source": [
    "n_train = len(mnist_train)\n",
    "n_test = len(mnist_test)\n",
    "im_width = x_example.shape[1]\n",
    "im_height = x_example.shape[2]\n",
    "x_type = np.float32 #recommended for PyTorch\n",
    "y_type = np.int64 #recommended for PyTorch\n",
    "\n",
    "x_train_shape = (n_train, im_width, im_height)\n",
    "y_train_shape = n_train\n",
    "x_test_shape = (n_test, im_width, im_height)\n",
    "y_test_shape = n_test"
   ]
  },
  {
   "cell_type": "code",
   "execution_count": 6,
   "metadata": {},
   "outputs": [],
   "source": [
    "from itertools import islice #allows us to first write only some examples\n",
    "import os.path as path\n",
    "\n",
    "mm_path = path.normpath(\"../../datasets/MNIST/raw/NumPy\")\n",
    "\n",
    "x_train_mm = np.memmap(path.join(mm_path, \"X_train.dat\"), dtype=x_type, mode='w+', shape=x_train_shape)\n",
    "y_train_mm = np.memmap(path.join(mm_path, \"y_train.dat\"), dtype=y_type, mode='w+', shape=y_train_shape)\n",
    "\n",
    "for i, example in enumerate(islice(mnist_train, n_train)):\n",
    "    x_train_mm[i,:] = example[0].numpy()[:] #convert to np array reusing allocated storage\n",
    "    y_train_mm[i] = example[1]\n",
    "\n",
    "x_train_mm._mmap.close()\n",
    "y_train_mm._mmap.close()\n",
    "\n",
    "x_test_mm = np.memmap(path.join(mm_path, \"X_test.dat\"), dtype=x_type, mode='w+', shape=x_test_shape)\n",
    "y_test_mm = np.memmap(path.join(mm_path, \"y_test.dat\"), dtype=y_type, mode='w+', shape=y_test_shape)\n",
    "\n",
    "for i, example in enumerate(islice(mnist_test, n_test)):\n",
    "    x_test_mm[i,:] = example[0].numpy()[:] #convert to np array reusing allocated storage\n",
    "    y_test_mm[i] = example[1]\n",
    "\n",
    "x_test_mm._mmap.close()\n",
    "y_test_mm._mmap.close()"
   ]
  },
  {
   "cell_type": "code",
   "execution_count": 30,
   "metadata": {},
   "outputs": [
    {
     "name": "stdout",
     "output_type": "stream",
     "text": [
      "torch.float32\n",
      "torch.int64\n",
      "tensor(6)\n"
     ]
    },
    {
     "data": {
      "image/png": "[encoded data removed]",
      "text/plain": [
       "<Figure size 640x480 with 1 Axes>"
      ]
     },
     "metadata": {},
     "output_type": "display_data"
    }
   ],
   "source": [
    "class LazyMNISTDataset(Dataset):\n",
    "\n",
    "    def __init__(self, folder=mm_path, train=True):\n",
    "        super(LazyMNISTDataset, self).__init__()\n",
    "        if train:\n",
    "            self.X = np.memmap(path.join(folder, \"X_train.dat\"), mode='r', dtype=x_type, shape=x_train_shape)\n",
    "            self.y = np.memmap(path.join(folder, \"y_train.dat\"), mode='r', dtype=y_type, shape=y_train_shape)\n",
    "        else:\n",
    "            self.X = np.memmap(path.join(folder, \"X_test.dat\"), mode='r', dtype=x_type, shape=x_test_shape)\n",
    "            self.y = np.memmap(path.join(folder, \"y_test.dat\"), mode='r', dtype=y_type, shape=y_test_shape)\n",
    "\n",
    "    def __getitem__(self, index):\n",
    "        x = torch.from_numpy(self.X[index, :]) #reuses memory\n",
    "        y = torch.tensor(self.y[index])\n",
    "        return x, y\n",
    "\n",
    "MNIST_train = LazyMNISTDataset(train=True)\n",
    "MNIST_test = LazyMNISTDataset(train=False)\n",
    "\n",
    "# print(MNIST_train[-1][0].dtype)\n",
    "# print(MNIST_train[-1][1].dtype)\n",
    "# plt.imshow(MNIST_train[-1][0], cmap='gray')\n",
    "# print(MNIST_train[-1][1])\n",
    "\n",
    "print(MNIST_train[-1][0].dtype)\n",
    "print(MNIST_train[-1][1].dtype)\n",
    "plt.imshow(MNIST_test[-1][0], cmap='gray')\n",
    "print(MNIST_test[-1][1])\n"
   ]
  }
 ],
 "metadata": {
  "kernelspec": {
   "display_name": "ml3",
   "language": "python",
   "name": "python3"
  },
  "language_info": {
   "codemirror_mode": {
    "name": "ipython",
    "version": 3
   },
   "file_extension": ".py",
   "mimetype": "text/x-python",
   "name": "python",
   "nbconvert_exporter": "python",
   "pygments_lexer": "ipython3",
   "version": "3.11.4"
  },
  "orig_nbformat": 4
 },
 "nbformat": 4,
 "nbformat_minor": 2
}
